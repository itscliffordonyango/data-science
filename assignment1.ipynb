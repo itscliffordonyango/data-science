{
 "cells": [
  {
   "cell_type": "code",
   "execution_count": null,
   "id": "451b25b9-d311-46f1-8551-d8703ce87243",
   "metadata": {},
   "outputs": [
    {
     "data": {
      "text/html": [
       "<div>\n",
       "<style scoped>\n",
       "    .dataframe tbody tr th:only-of-type {\n",
       "        vertical-align: middle;\n",
       "    }\n",
       "\n",
       "    .dataframe tbody tr th {\n",
       "        vertical-align: top;\n",
       "    }\n",
       "\n",
       "    .dataframe thead th {\n",
       "        text-align: right;\n",
       "    }\n",
       "</style>\n",
       "<table border=\"1\" class=\"dataframe\">\n",
       "  <thead>\n",
       "    <tr style=\"text-align: right;\">\n",
       "      <th></th>\n",
       "      <th>Employee_ID</th>\n",
       "      <th>Age</th>\n",
       "      <th>Gender</th>\n",
       "      <th>Education_Level</th>\n",
       "      <th>Work_Experience</th>\n",
       "      <th>Job_Title</th>\n",
       "      <th>Department</th>\n",
       "      <th>Monthly_Salary</th>\n",
       "      <th>Performance_Score</th>\n",
       "      <th>Remote_Work_Percentage</th>\n",
       "      <th>City</th>\n",
       "    </tr>\n",
       "  </thead>\n",
       "  <tbody>\n",
       "    <tr>\n",
       "      <th>0</th>\n",
       "      <td>1001</td>\n",
       "      <td>50</td>\n",
       "      <td>Male</td>\n",
       "      <td>Bachelor</td>\n",
       "      <td>9</td>\n",
       "      <td>Manager</td>\n",
       "      <td>Marketing</td>\n",
       "      <td>80000.0</td>\n",
       "      <td>8</td>\n",
       "      <td>25</td>\n",
       "      <td>Nakuru</td>\n",
       "    </tr>\n",
       "    <tr>\n",
       "      <th>1</th>\n",
       "      <td>1002</td>\n",
       "      <td>36</td>\n",
       "      <td>Female</td>\n",
       "      <td>Bachelor</td>\n",
       "      <td>16</td>\n",
       "      <td>Data Scientist</td>\n",
       "      <td>Operations</td>\n",
       "      <td>69000.0</td>\n",
       "      <td>9</td>\n",
       "      <td>25</td>\n",
       "      <td>Eldoret</td>\n",
       "    </tr>\n",
       "    <tr>\n",
       "      <th>2</th>\n",
       "      <td>1003</td>\n",
       "      <td>29</td>\n",
       "      <td>Female</td>\n",
       "      <td>Bachelor</td>\n",
       "      <td>9</td>\n",
       "      <td>Analyst</td>\n",
       "      <td>Marketing</td>\n",
       "      <td>48000.0</td>\n",
       "      <td>3</td>\n",
       "      <td>0</td>\n",
       "      <td>Kisumu</td>\n",
       "    </tr>\n",
       "    <tr>\n",
       "      <th>3</th>\n",
       "      <td>1004</td>\n",
       "      <td>42</td>\n",
       "      <td>Female</td>\n",
       "      <td>Bachelor</td>\n",
       "      <td>16</td>\n",
       "      <td>Consultant</td>\n",
       "      <td>Finance</td>\n",
       "      <td>91000.0</td>\n",
       "      <td>10</td>\n",
       "      <td>0</td>\n",
       "      <td>Kisumu</td>\n",
       "    </tr>\n",
       "    <tr>\n",
       "      <th>4</th>\n",
       "      <td>1005</td>\n",
       "      <td>40</td>\n",
       "      <td>Female</td>\n",
       "      <td>Bachelor</td>\n",
       "      <td>19</td>\n",
       "      <td>Manager</td>\n",
       "      <td>Finance</td>\n",
       "      <td>64000.0</td>\n",
       "      <td>3</td>\n",
       "      <td>25</td>\n",
       "      <td>Nairobi</td>\n",
       "    </tr>\n",
       "    <tr>\n",
       "      <th>5</th>\n",
       "      <td>1006</td>\n",
       "      <td>44</td>\n",
       "      <td>Male</td>\n",
       "      <td>Bachelor</td>\n",
       "      <td>23</td>\n",
       "      <td>Analyst</td>\n",
       "      <td>IT</td>\n",
       "      <td>76000.0</td>\n",
       "      <td>3</td>\n",
       "      <td>0</td>\n",
       "      <td>Nairobi</td>\n",
       "    </tr>\n",
       "    <tr>\n",
       "      <th>6</th>\n",
       "      <td>1007</td>\n",
       "      <td>32</td>\n",
       "      <td>Female</td>\n",
       "      <td>Master</td>\n",
       "      <td>4</td>\n",
       "      <td>Manager</td>\n",
       "      <td>Operations</td>\n",
       "      <td>86000.0</td>\n",
       "      <td>6</td>\n",
       "      <td>25</td>\n",
       "      <td>Nakuru</td>\n",
       "    </tr>\n",
       "    <tr>\n",
       "      <th>7</th>\n",
       "      <td>1008</td>\n",
       "      <td>32</td>\n",
       "      <td>Female</td>\n",
       "      <td>Diploma</td>\n",
       "      <td>33</td>\n",
       "      <td>Engineer</td>\n",
       "      <td>Marketing</td>\n",
       "      <td>38000.0</td>\n",
       "      <td>1</td>\n",
       "      <td>50</td>\n",
       "      <td>Nakuru</td>\n",
       "    </tr>\n",
       "    <tr>\n",
       "      <th>8</th>\n",
       "      <td>1009</td>\n",
       "      <td>45</td>\n",
       "      <td>Male</td>\n",
       "      <td>Bachelor</td>\n",
       "      <td>5</td>\n",
       "      <td>Consultant</td>\n",
       "      <td>HR</td>\n",
       "      <td>43000.0</td>\n",
       "      <td>7</td>\n",
       "      <td>25</td>\n",
       "      <td>Mombasa</td>\n",
       "    </tr>\n",
       "    <tr>\n",
       "      <th>9</th>\n",
       "      <td>1010</td>\n",
       "      <td>57</td>\n",
       "      <td>Male</td>\n",
       "      <td>PhD</td>\n",
       "      <td>1</td>\n",
       "      <td>Analyst</td>\n",
       "      <td>Finance</td>\n",
       "      <td>74000.0</td>\n",
       "      <td>1</td>\n",
       "      <td>25</td>\n",
       "      <td>Nakuru</td>\n",
       "    </tr>\n",
       "  </tbody>\n",
       "</table>\n",
       "</div>"
      ],
      "text/plain": [
       "   Employee_ID  Age  Gender Education_Level  Work_Experience       Job_Title  \\\n",
       "0         1001   50    Male        Bachelor                9         Manager   \n",
       "1         1002   36  Female        Bachelor               16  Data Scientist   \n",
       "2         1003   29  Female        Bachelor                9         Analyst   \n",
       "3         1004   42  Female        Bachelor               16      Consultant   \n",
       "4         1005   40  Female        Bachelor               19         Manager   \n",
       "5         1006   44    Male        Bachelor               23         Analyst   \n",
       "6         1007   32  Female          Master                4         Manager   \n",
       "7         1008   32  Female         Diploma               33        Engineer   \n",
       "8         1009   45    Male        Bachelor                5      Consultant   \n",
       "9         1010   57    Male             PhD                1         Analyst   \n",
       "\n",
       "   Department  Monthly_Salary  Performance_Score  Remote_Work_Percentage  \\\n",
       "0   Marketing         80000.0                  8                      25   \n",
       "1  Operations         69000.0                  9                      25   \n",
       "2   Marketing         48000.0                  3                       0   \n",
       "3     Finance         91000.0                 10                       0   \n",
       "4     Finance         64000.0                  3                      25   \n",
       "5          IT         76000.0                  3                       0   \n",
       "6  Operations         86000.0                  6                      25   \n",
       "7   Marketing         38000.0                  1                      50   \n",
       "8          HR         43000.0                  7                      25   \n",
       "9     Finance         74000.0                  1                      25   \n",
       "\n",
       "      City  \n",
       "0   Nakuru  \n",
       "1  Eldoret  \n",
       "2   Kisumu  \n",
       "3   Kisumu  \n",
       "4  Nairobi  \n",
       "5  Nairobi  \n",
       "6   Nakuru  \n",
       "7   Nakuru  \n",
       "8  Mombasa  \n",
       "9   Nakuru  "
      ]
     },
     "execution_count": 45,
     "metadata": {},
     "output_type": "execute_result"
    }
   ],
   "source": [
    "# question 1 - Load the dataset and display its first 10 rows. \n",
    "import pandas as pd \n",
    "import numpy as np\n",
    "import seaborn as sn\n",
    "path =\"employee_salary_data.csv\"\n",
    "dataset = pd.read_csv(path)\n",
    "dataset.head(10)\n"
   ]
  },
  {
   "cell_type": "code",
   "execution_count": null,
   "id": "4bf65d5c-4682-4aec-8933-f3f751b46191",
   "metadata": {},
   "outputs": [
    {
     "data": {
      "text/plain": [
       "np.int64(0)"
      ]
     },
     "execution_count": 46,
     "metadata": {},
     "output_type": "execute_result"
    }
   ],
   "source": [
    "# Check for missing values and duplicates.\n",
    "dataset.duplicated().sum()\n"
   ]
  },
  {
   "cell_type": "code",
   "execution_count": null,
   "id": "b06b0305-52cd-42ab-a889-eb25afdccf93",
   "metadata": {},
   "outputs": [
    {
     "data": {
      "text/plain": [
       "Employee_ID               0\n",
       "Age                       0\n",
       "Gender                    0\n",
       "Education_Level           0\n",
       "Work_Experience           0\n",
       "Job_Title                 0\n",
       "Department                0\n",
       "Monthly_Salary            0\n",
       "Performance_Score         0\n",
       "Remote_Work_Percentage    0\n",
       "City                      0\n",
       "dtype: int64"
      ]
     },
     "execution_count": 47,
     "metadata": {},
     "output_type": "execute_result"
    }
   ],
   "source": [
    "dataset.isnull().sum()"
   ]
  },
  {
   "cell_type": "code",
   "execution_count": null,
   "id": "d77bf6b4-d537-4c59-a8d7-c5d8c182fd9a",
   "metadata": {},
   "outputs": [
    {
     "data": {
      "text/plain": [
       "(200, 11)"
      ]
     },
     "execution_count": 48,
     "metadata": {},
     "output_type": "execute_result"
    }
   ],
   "source": [
    "#Remove any missing and duplicate employee records\n",
    "dataset.dropna(inplace=True)\n",
    "dataset.drop_duplicates(inplace=True)\n",
    "dataset.shape"
   ]
  },
  {
   "cell_type": "code",
   "execution_count": null,
   "id": "878ec8a7-dd36-44e3-a008-e7c2df7353b5",
   "metadata": {},
   "outputs": [
    {
     "name": "stdout",
     "output_type": "stream",
     "text": [
      "Mean : 81770.0\n"
     ]
    }
   ],
   "source": [
    "# mean\n",
    "mean_salary = dataset[\"Monthly_Salary\"].mean()\n",
    "print(\"Mean :\",mean_salary)"
   ]
  },
  {
   "cell_type": "code",
   "execution_count": null,
   "id": "60238134-0a16-4495-88f3-6485f774f471",
   "metadata": {},
   "outputs": [
    {
     "name": "stdout",
     "output_type": "stream",
     "text": [
      "Median : 81000.0\n"
     ]
    }
   ],
   "source": [
    "# median\n",
    "median_salary = dataset[\"Monthly_Salary\"].median()\n",
    "print(\"Median :\",median_salary)"
   ]
  },
  {
   "cell_type": "code",
   "execution_count": null,
   "id": "dc4e382e-f53a-40a3-94a3-1f3758ef320d",
   "metadata": {},
   "outputs": [
    {
     "name": "stdout",
     "output_type": "stream",
     "text": [
      "Mode : 78000.0\n"
     ]
    }
   ],
   "source": [
    "# mode\n",
    "mode_salary = dataset[\"Monthly_Salary\"].mode()[0]\n",
    "print(\"Mode :\",mode_salary)"
   ]
  },
  {
   "cell_type": "code",
   "execution_count": null,
   "id": "8622e12d-f371-4982-ae7c-f11eef00c9b0",
   "metadata": {},
   "outputs": [
    {
     "name": "stdout",
     "output_type": "stream",
     "text": [
      "Standard Deviation Salary : 18635.00515388786\n"
     ]
    }
   ],
   "source": [
    "# standard deviation\n",
    "std_salary = dataset[\"Monthly_Salary\"].std()\n",
    "print(\"Standard Deviation Salary :\",std_salary)"
   ]
  },
  {
   "cell_type": "code",
   "execution_count": null,
   "id": "ed6eeb56-cab7-4fe5-8b79-1a4496cc8965",
   "metadata": {},
   "outputs": [
    {
     "name": "stdout",
     "output_type": "stream",
     "text": [
      "Mean Age : 40.17\n"
     ]
    }
   ],
   "source": [
    "mean_age = dataset[\"Age\"].mean()\n",
    "print(\"Mean Age :\",mean_age)"
   ]
  },
  {
   "cell_type": "code",
   "execution_count": null,
   "id": "5a01a014-468a-47e9-ae78-db2a11d43697",
   "metadata": {},
   "outputs": [
    {
     "name": "stdout",
     "output_type": "stream",
     "text": [
      "Median : 41.0\n"
     ]
    }
   ],
   "source": [
    "median_age = dataset[\"Age\"].median()\n",
    "print(\"Median :\",median_age)"
   ]
  },
  {
   "cell_type": "code",
   "execution_count": null,
   "id": "bdf4de36-4c5b-49e6-a921-688fbaddf458",
   "metadata": {},
   "outputs": [
    {
     "name": "stdout",
     "output_type": "stream",
     "text": [
      "Mode : 45\n"
     ]
    }
   ],
   "source": [
    "mode_age = dataset[\"Age\"].mode()[0]\n",
    "print(\"Mode :\",mode_age) "
   ]
  },
  {
   "cell_type": "code",
   "execution_count": null,
   "id": "971b7b23-3a7d-4dd7-bdfb-af252626f074",
   "metadata": {},
   "outputs": [
    {
     "name": "stdout",
     "output_type": "stream",
     "text": [
      "Standard Deviation: 11.242020062042979\n"
     ]
    }
   ],
   "source": [
    "std_age = dataset[\"Age\"].std()\n",
    "print(\"Standard Deviation:\",std_age)"
   ]
  },
  {
   "cell_type": "code",
   "execution_count": null,
   "id": "ba0424da-6644-430e-a545-231be530b07a",
   "metadata": {},
   "outputs": [
    {
     "data": {
      "text/html": [
       "<div>\n",
       "<style scoped>\n",
       "    .dataframe tbody tr th:only-of-type {\n",
       "        vertical-align: middle;\n",
       "    }\n",
       "\n",
       "    .dataframe tbody tr th {\n",
       "        vertical-align: top;\n",
       "    }\n",
       "\n",
       "    .dataframe thead th {\n",
       "        text-align: right;\n",
       "    }\n",
       "</style>\n",
       "<table border=\"1\" class=\"dataframe\">\n",
       "  <thead>\n",
       "    <tr style=\"text-align: right;\">\n",
       "      <th></th>\n",
       "      <th>Statistic</th>\n",
       "      <th>Monthly_Salary</th>\n",
       "      <th>Age</th>\n",
       "    </tr>\n",
       "  </thead>\n",
       "  <tbody>\n",
       "    <tr>\n",
       "      <th>0</th>\n",
       "      <td>Mean</td>\n",
       "      <td>81770.000000</td>\n",
       "      <td>40.17000</td>\n",
       "    </tr>\n",
       "    <tr>\n",
       "      <th>1</th>\n",
       "      <td>Median</td>\n",
       "      <td>81000.000000</td>\n",
       "      <td>41.00000</td>\n",
       "    </tr>\n",
       "    <tr>\n",
       "      <th>2</th>\n",
       "      <td>Mode</td>\n",
       "      <td>78000.000000</td>\n",
       "      <td>45.00000</td>\n",
       "    </tr>\n",
       "    <tr>\n",
       "      <th>3</th>\n",
       "      <td>Standard Deviation</td>\n",
       "      <td>18635.005154</td>\n",
       "      <td>11.24202</td>\n",
       "    </tr>\n",
       "  </tbody>\n",
       "</table>\n",
       "</div>"
      ],
      "text/plain": [
       "            Statistic  Monthly_Salary       Age\n",
       "0                Mean    81770.000000  40.17000\n",
       "1              Median    81000.000000  41.00000\n",
       "2                Mode    78000.000000  45.00000\n",
       "3  Standard Deviation    18635.005154  11.24202"
      ]
     },
     "metadata": {},
     "output_type": "display_data"
    },
    {
     "name": "stdout",
     "output_type": "stream",
     "text": [
      " \n",
      "\n",
      "Interpretation:\n",
      "- The mean and median salaries show whether the distribution is symmetric or skewed.\n",
      "- If the mean > median, salaries are likely right-skewed (a few high earners).\n",
      "- The same logic applies for age — comparing mean and median reveals whether most employees are young or older.\n",
      "\n",
      "\n",
      "\n"
     ]
    }
   ],
   "source": [
    "summary = pd.DataFrame({\n",
    "    \"Statistic\": [\"Mean\", \"Median\", \"Mode\", \"Standard Deviation\"],\n",
    "    \"Monthly_Salary\": [mean_salary, median_salary, mode_salary, std_salary],\n",
    "    \"Age\": [mean_age, median_age, mode_age, std_age]\n",
    "})\n",
    "display(summary)\n",
    "print(\"\"\" \\n\n",
    "Interpretation:\n",
    "- The mean and median salaries show whether the distribution is symmetric or skewed.\n",
    "- If the mean > median, salaries are likely right-skewed (a few high earners).\n",
    "- The same logic applies for age — comparing mean and median reveals whether most employees are young or older.\n",
    "\\n\n",
    "\"\"\")"
   ]
  },
  {
   "cell_type": "code",
   "execution_count": null,
   "id": "1b95714f-aad0-4e57-8752-762448853902",
   "metadata": {},
   "outputs": [
    {
     "name": "stdout",
     "output_type": "stream",
     "text": [
      "Positive Correlation\n"
     ]
    }
   ],
   "source": [
    "corr = dataset[\"Work_Experience\"].corr(dataset[\"Monthly_Salary\"])\n",
    "if corr>0:\n",
    "    print(\"Positive Correlation\")\n",
    "elif corr<0:\n",
    "    print(\"Negative Correlation\")\n",
    "else:\n",
    "    print(\"No correlation\")"
   ]
  },
  {
   "cell_type": "code",
   "execution_count": null,
   "id": "d960f5c9-005c-4ef3-bb03-07efd3c35c85",
   "metadata": {},
   "outputs": [
    {
     "data": {
      "text/html": [
       "<div>\n",
       "<style scoped>\n",
       "    .dataframe tbody tr th:only-of-type {\n",
       "        vertical-align: middle;\n",
       "    }\n",
       "\n",
       "    .dataframe tbody tr th {\n",
       "        vertical-align: top;\n",
       "    }\n",
       "\n",
       "    .dataframe thead th {\n",
       "        text-align: right;\n",
       "    }\n",
       "</style>\n",
       "<table border=\"1\" class=\"dataframe\">\n",
       "  <thead>\n",
       "    <tr style=\"text-align: right;\">\n",
       "      <th></th>\n",
       "      <th>Average_Salary</th>\n",
       "      <th>Median_Salary</th>\n",
       "      <th>Employee_Count</th>\n",
       "    </tr>\n",
       "    <tr>\n",
       "      <th>Gender</th>\n",
       "      <th></th>\n",
       "      <th></th>\n",
       "      <th></th>\n",
       "    </tr>\n",
       "  </thead>\n",
       "  <tbody>\n",
       "    <tr>\n",
       "      <th>Female</th>\n",
       "      <td>83239.13</td>\n",
       "      <td>82500.0</td>\n",
       "      <td>92</td>\n",
       "    </tr>\n",
       "    <tr>\n",
       "      <th>Male</th>\n",
       "      <td>79229.17</td>\n",
       "      <td>78000.0</td>\n",
       "      <td>96</td>\n",
       "    </tr>\n",
       "    <tr>\n",
       "      <th>Other</th>\n",
       "      <td>90833.33</td>\n",
       "      <td>89500.0</td>\n",
       "      <td>12</td>\n",
       "    </tr>\n",
       "  </tbody>\n",
       "</table>\n",
       "</div>"
      ],
      "text/plain": [
       "        Average_Salary  Median_Salary  Employee_Count\n",
       "Gender                                               \n",
       "Female        83239.13        82500.0              92\n",
       "Male          79229.17        78000.0              96\n",
       "Other         90833.33        89500.0              12"
      ]
     },
     "metadata": {},
     "output_type": "display_data"
    }
   ],
   "source": [
    "salary_by_gender = pd.pivot_table(\n",
    "    dataset,\n",
    "    values='Monthly_Salary',\n",
    "    index='Gender',\n",
    "    aggfunc=['mean', 'median', 'count']\n",
    ").round(2)\n",
    "\n",
    "salary_by_gender.columns = ['Average_Salary', 'Median_Salary', 'Employee_Count']\n",
    "display(salary_by_gender)\n"
   ]
  },
  {
   "cell_type": "code",
   "execution_count": null,
   "id": "50d0c2f6-90c4-4543-9133-3c942464a33d",
   "metadata": {},
   "outputs": [
    {
     "name": "stdout",
     "output_type": "stream",
     "text": [
      "\n",
      " City with the highest average performance score: Nairobi \n",
      "\n"
     ]
    }
   ],
   "source": [
    "import pandas as pd \n",
    "path =\"employee_salary_data.csv\"\n",
    "dataset = pd.read_csv(path)\n",
    "city_performance = dataset.groupby(\"City\")[\"Performance_Score\"].mean().sort_values(ascending=False).round()\n",
    "top_city = city_performance.index[0]\n",
    "print(f\"\\n City with the highest average performance score: {top_city} \\n\")"
   ]
  },
  {
   "cell_type": "code",
   "execution_count": null,
   "id": "68fa8072-1e80-40a5-9149-3579b58705e7",
   "metadata": {},
   "outputs": [
    {
     "data": {
      "text/plain": [
       "City\n",
       "Nairobi    6.0\n",
       "Mombasa    5.0\n",
       "Nakuru     5.0\n",
       "Eldoret    5.0\n",
       "Kisumu     5.0\n",
       "Name: Performance_Score, dtype: float64"
      ]
     },
     "metadata": {},
     "output_type": "display_data"
    }
   ],
   "source": [
    "display(city_performance.head(10))"
   ]
  },
  {
   "cell_type": "code",
   "execution_count": null,
   "id": "cd9e5bd7-8c91-462c-937b-4a42d6212b95",
   "metadata": {},
   "outputs": [
    {
     "name": "stderr",
     "output_type": "stream",
     "text": [
      "/tmp/ipykernel_45138/138118693.py:7: FutureWarning: \n",
      "\n",
      "Passing `palette` without assigning `hue` is deprecated and will be removed in v0.14.0. Assign the `y` variable to `hue` and set `legend=False` for the same effect.\n",
      "\n",
      "  sns.barplot(\n"
     ]
    },
    {
     "data": {
      "image/png": "[encoded data removed]",
      "text/plain": [
       "<Figure size 800x500 with 1 Axes>"
      ]
     },
     "metadata": {},
     "output_type": "display_data"
    }
   ],
   "source": [
    "import matplotlib \n",
    "from matplotlib import pyplot as plt\n",
    "import numpy as np\n",
    "import seaborn as sns\n",
    "\n",
    "plt.figure(figsize=(8,5))\n",
    "sns.barplot(\n",
    "    data=dataset,\n",
    "    x=\"Performance_Score\",\n",
    "    y=\"City\",\n",
    "    estimator=np.mean,\n",
    "    order=dataset.groupby(\"City\")[\"Performance_Score\"].mean().sort_values().index,\n",
    "    palette=\"viridis\"\n",
    ")\n",
    "plt.title(\"Average Performance Score by City\")\n",
    "plt.xlabel(\"Average Performance Score\")\n",
    "plt.ylabel(\"City\")\n",
    "plt.show()\n"
   ]
  },
  {
   "cell_type": "code",
   "execution_count": null,
   "id": "bb6f3e86-5094-4e53-a183-6e6da202a6fc",
   "metadata": {},
   "outputs": [
    {
     "data": {
      "image/png": "[encoded data removed]",
      "text/plain": [
       "<Figure size 800x500 with 1 Axes>"
      ]
     },
     "metadata": {},
     "output_type": "display_data"
    },
    {
     "name": "stdout",
     "output_type": "stream",
     "text": [
      "The histogram is roughly shaped thus it is normally distributed.\n"
     ]
    }
   ],
   "source": [
    "plt.figure(figsize=(8,5))\n",
    "plt.hist(dataset[\"Age\"], bins=10, color=\"skyblue\", edgecolor=\"black\")\n",
    "plt.title(\"Distribution of Employee Ages\")\n",
    "plt.xlabel(\"Age\")\n",
    "plt.ylabel(\"Frequency\")\n",
    "plt.show()\n",
    "print(\"The histogram is roughly shaped thus it is normally distributed.\")"
   ]
  },
  {
   "cell_type": "code",
   "execution_count": null,
   "id": "ddb070f9-2376-486f-a49c-4845199fad22",
   "metadata": {},
   "outputs": [],
   "source": [
    "avg_salary_dept = dataset.groupby(\"Department\")[\"Monthly_Salary\"].mean().sort_values(ascending=False)"
   ]
  },
  {
   "cell_type": "code",
   "execution_count": null,
   "id": "80877723-6ec3-4754-b394-2abcfa52465b",
   "metadata": {},
   "outputs": [
    {
     "name": "stderr",
     "output_type": "stream",
     "text": [
      "/tmp/ipykernel_45138/3018377424.py:2: FutureWarning: \n",
      "\n",
      "Passing `palette` without assigning `hue` is deprecated and will be removed in v0.14.0. Assign the `x` variable to `hue` and set `legend=False` for the same effect.\n",
      "\n",
      "  sns.barplot(x=avg_salary_dept.index, y=avg_salary_dept.values, palette=\"coolwarm\")\n"
     ]
    },
    {
     "data": {
      "image/png": "[encoded data removed]",
      "text/plain": [
       "<Figure size 1000x500 with 1 Axes>"
      ]
     },
     "metadata": {},
     "output_type": "display_data"
    }
   ],
   "source": [
    "plt.figure(figsize=(10,5))\n",
    "sns.barplot(x=avg_salary_dept.index, y=avg_salary_dept.values, palette=\"coolwarm\")\n",
    "plt.xticks(rotation=45)\n",
    "plt.title(\"Average Monthly Salary per Department\")\n",
    "plt.ylabel(\"Average Salary\")\n",
    "plt.xlabel(\"Department\")\n",
    "plt.show()"
   ]
  },
  {
   "cell_type": "code",
   "execution_count": null,
   "id": "b1dfbdcd-9264-4044-bc2c-edae17e87013",
   "metadata": {},
   "outputs": [
    {
     "name": "stderr",
     "output_type": "stream",
     "text": [
      "/tmp/ipykernel_45138/2821169898.py:2: FutureWarning: \n",
      "\n",
      "Passing `palette` without assigning `hue` is deprecated and will be removed in v0.14.0. Assign the `x` variable to `hue` and set `legend=False` for the same effect.\n",
      "\n",
      "  sns.boxplot(x=\"Education_Level\", y=\"Monthly_Salary\", data=dataset, palette=\"pastel\")\n"
     ]
    },
    {
     "data": {
      "image/png": "[encoded data removed]",
      "text/plain": [
       "<Figure size 800x500 with 1 Axes>"
      ]
     },
     "metadata": {},
     "output_type": "display_data"
    },
    {
     "name": "stdout",
     "output_type": "stream",
     "text": [
      "If higher education levels correspond to higher median salaries \n",
      " then education positively influences earning potential\n"
     ]
    }
   ],
   "source": [
    "plt.figure(figsize=(8,5))\n",
    "sns.boxplot(x=\"Education_Level\", y=\"Monthly_Salary\", data=dataset, palette=\"pastel\")\n",
    "plt.title(\"Monthly Salary Distribution by Education Level\")\n",
    "plt.show()\n",
    "print(\"If higher education levels correspond to higher median salaries \\n then education positively influences earning potential\")"
   ]
  },
  {
   "cell_type": "code",
   "execution_count": null,
   "id": "deff49cc-4b21-4d68-8ff6-2c6d683d32bc",
   "metadata": {},
   "outputs": [
    {
     "data": {
      "image/png": "[encoded data removed]",
      "text/plain": [
       "<Figure size 700x500 with 1 Axes>"
      ]
     },
     "metadata": {},
     "output_type": "display_data"
    },
    {
     "name": "stdout",
     "output_type": "stream",
     "text": [
      "A positive upward trend → more experience generally leads to higher salary.\n",
      " A flat or random scatter → little to no relationship between the two.\n"
     ]
    }
   ],
   "source": [
    "plt.figure(figsize=(7,5))\n",
    "sns.scatterplot(x=\"Work_Experience\", y=\"Monthly_Salary\", data=dataset, color=\"teal\")\n",
    "plt.title(\"Work Experience vs Monthly Salary\")\n",
    "plt.show()\n",
    "print(\"A positive upward trend more experience generally leads to higher salary.\\n A flat or random scatter → little to no relationship between the two.\")"
   ]
  },
  {
   "cell_type": "code",
   "execution_count": null,
   "id": "f6b2da1f-8df8-4136-acb0-d4437bdd64d3",
   "metadata": {},
   "outputs": [],
   "source": []
  }
 ],
 "metadata": {
  "kernelspec": {
   "display_name": "Python [conda env:base] *",
   "language": "python",
   "name": "conda-base-py"
  },
  "language_info": {
   "codemirror_mode": {
    "name": "ipython",
    "version": 3
   },
   "file_extension": ".py",
   "mimetype": "text/x-python",
   "name": "python",
   "nbconvert_exporter": "python",
   "pygments_lexer": "ipython3",
   "version": "3.13.5"
  }
 },
 "nbformat": 4,
 "nbformat_minor": 5
}
